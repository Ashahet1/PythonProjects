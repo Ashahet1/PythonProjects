{
 "cells": [
  {
   "cell_type": "markdown",
   "metadata": {},
   "source": [
    "## Key Terms\n",
    "Heuristic - A practical problem-solving approach not guaranteed to be optimal but sufficient for reaching an immediate goal.\n",
    "\n",
    "Greedy Algorithm - An algorithm that follows the heuristic of making locally optimal choices at each stage in hope of finding a global optimum.\n",
    "\n",
    "Traveling Salesman Problem (TSP) - A classic computer science optimization problem involving finding the shortest route visiting each city in a list exactly once.\n",
    "\n",
    "Simulation - Imitating a real-world process over time with a mathematical model to study system behavior and performance.\n",
    "\n",
    "Law of Large Numbers - The principle that the larger the sample size in a probabilistic simulation, the more it reveals the true underlying statistical distributions.\n",
    "\n",
    "Experiment Tracking - The MLOps practice of tracking key metrics like performance across iterations of an machine learning experiment."
   ]
  },
  {
   "cell_type": "markdown",
   "metadata": {},
   "source": []
  }
 ],
 "metadata": {
  "language_info": {
   "name": "python"
  }
 },
 "nbformat": 4,
 "nbformat_minor": 2
}
