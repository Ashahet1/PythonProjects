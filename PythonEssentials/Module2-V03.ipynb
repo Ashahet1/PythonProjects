{
 "cells": [
  {
   "cell_type": "markdown",
   "id": "80ff8192",
   "metadata": {},
   "source": [
    "### Reflection Questions\n",
    "\n",
    "- In what situations have you found functions useful while programming before?\n",
    "\n",
    "- How can arguments help make functions more adaptable?\n",
    "\n",
    "- What problems can arise with functions that don't return values?\n",
    "\n",
    "- When would variable arguments be useful to implement?\n",
    "\n",
    "- How do keyword arguments differ from regular arguments?\n",
    "\n",
    "## Challenge Exercises\n",
    "\n",
    "Write a function that calculates the area of a circle from a radius.\n",
    "\n",
    "Define a function with three optional keyword arguments.\n",
    "\n",
    "Create a function with variable arguments that finds the maximum value.\n",
    "\n",
    "Implement a greeting function with default keyword arguments.\n",
    "\n",
    "Write a tax calculator function using keyword and required arguments."
   ]
  },
  {
   "cell_type": "code",
   "execution_count": 6,
   "id": "694fa032",
   "metadata": {},
   "outputs": [],
   "source": [
    "# Write a function that calculates the area of a circle from a radius.\n",
    "# This is already done in Module2-V02.ipynb\n",
    "# skip\n"
   ]
  },
  {
   "cell_type": "code",
   "execution_count": 8,
   "id": "c1444da3",
   "metadata": {},
   "outputs": [
    {
     "name": "stdout",
     "output_type": "stream",
     "text": [
      "Example 1: All arguments provided.\n",
      "Age: 30\n",
      "City: New York\n",
      "Country: Canada\n",
      "--------------------\n",
      "\n",
      "Example 2: No argument.\n",
      "Age: Not provided.\n",
      "City: Not provided.\n",
      "Country: Unknown Planet\n",
      "--------------------\n"
     ]
    }
   ],
   "source": [
    "# Define a function with three optional keyword arguments.\n",
    "def keyFunc(age=None, city=None, country=\"Unknown Planet\"):\n",
    "    \"\"\"\n",
    "    Function takes all three of the values but are optional.\n",
    "\n",
    "     Args:\n",
    "        age (int, optional): The person's age. Defaults to None.\n",
    "        city (str, optional): The person's city. Defaults to None.\n",
    "        country (str, optional): The person's country. Defaults to \"USA\".\n",
    "    \"\"\"\n",
    "    if age is not None:\n",
    "        print(f\"Age: {age}\")\n",
    "    else:\n",
    "        print(\"Age: Not provided.\")\n",
    "\n",
    "    if city is not None:\n",
    "        print(f\"City: {city}\")\n",
    "    else:\n",
    "        print(\"City: Not provided.\")\n",
    "\n",
    "    print(f\"Country: {country}\")\n",
    "    print(\"-\" * 20)\n",
    "\n",
    "# 1. Call with all arguments provided\n",
    "print(\"Example 1: All arguments provided.\")\n",
    "keyFunc(age=30, city=\"New York\", country=\"Canada\")\n",
    "\n",
    "# 2. Call with only the required argument\n",
    "print(\"\\nExample 2: No argument.\")\n",
    "keyFunc()\n",
    "\n"
   ]
  },
  {
   "cell_type": "code",
   "execution_count": 13,
   "id": "9398207c",
   "metadata": {},
   "outputs": [
    {
     "name": "stdout",
     "output_type": "stream",
     "text": [
      "The maximum number is: 8\n",
      "The maximum number is: 101\n",
      "The maximum number is: Age\n",
      "The maximum number is: 7\n"
     ]
    }
   ],
   "source": [
    "# Create a function with variable arguments that finds the maximum value.\n",
    "def Max_Value(*items):\n",
    "    \"\"\"\n",
    "    Finds the maximum value from a variable number of arguments.\n",
    "\n",
    "    Args:\n",
    "        *numbers: A variable number of numeric arguments.\n",
    "                  Python will collect these into a tuple.\n",
    "\n",
    "    Returns:\n",
    "        The maximum value from the arguments, or a message if no\n",
    "        arguments were provided.\n",
    "    \n",
    "    \"\"\"\n",
    "    if not items:\n",
    "        print(\"No Number was provided\")\n",
    "    return max(items)\n",
    "\n",
    "\n",
    "# Example Usuage\n",
    "print(f\"The maximum number is: {Max_Value(3, 5, 7, 2, 8)}\")\n",
    "\n",
    "print(f\"The maximum number is: {Max_Value(100,23,12,45,101)}\")\n",
    "\n",
    "print(f\"The maximum number is: {Max_Value(\"Age\",\"23\",\"12\")}\")\n",
    "\n",
    "print(f\"The maximum number is: {Max_Value(7)}\")\n",
    "\n",
    "# Can't do -> print(f\"The maximum number is: {Max_Value()}\")\n",
    "\n"
   ]
  },
  {
   "cell_type": "code",
   "execution_count": 17,
   "id": "b7fc2aa9",
   "metadata": {},
   "outputs": [
    {
     "name": "stdout",
     "output_type": "stream",
     "text": [
      "Greetings result is: Hello!\n",
      "Greetings result is: Hi There!\n"
     ]
    }
   ],
   "source": [
    "# Implement a greeting function with default keyword arguments.\n",
    "def Greeting(greet='Hi There!'):\n",
    "\n",
    "    \"\"\"\n",
    "    This is a default example of a greeting arguement\n",
    "    \"\"\"\n",
    "    print(f\"Greetings result is: {greet}\")\n",
    "\n",
    "# Example usage\n",
    "\n",
    "Greeting('Hello!')\n",
    "\n",
    "Greeting()\n",
    "\n",
    "\n"
   ]
  },
  {
   "cell_type": "code",
   "execution_count": 5,
   "id": "d497eec7",
   "metadata": {},
   "outputs": [],
   "source": [
    "# Write a tax calculator function using keyword and required arguments."
   ]
  },
  {
   "cell_type": "code",
   "execution_count": null,
   "id": "4cb63851",
   "metadata": {},
   "outputs": [],
   "source": []
  }
 ],
 "metadata": {
  "kernelspec": {
   "display_name": "Python 3",
   "language": "python",
   "name": "python3"
  },
  "language_info": {
   "codemirror_mode": {
    "name": "ipython",
    "version": 3
   },
   "file_extension": ".py",
   "mimetype": "text/x-python",
   "name": "python",
   "nbconvert_exporter": "python",
   "pygments_lexer": "ipython3",
   "version": "3.13.7"
  }
 },
 "nbformat": 4,
 "nbformat_minor": 5
}
