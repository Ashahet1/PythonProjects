{
 "cells": [
  {
   "cell_type": "markdown",
   "id": "2eda8ce6",
   "metadata": {},
   "source": [
    "## Key Points\n",
    "\n",
    "- Derived classes inherit attributes and behaviors from parent base classes\n",
    "\n",
    "- Overriding inherited methods allows modifying functionality in child classes\n",
    "\n",
    "- Multiple inheritance allows a derived class to inherit from multiple parent classes\n",
    "\n",
    "- Name mangling with double underscores enables a form of private class variables\n",
    "\n",
    "## Reflection Questions\n",
    "\n",
    "- How does inheritance promote code reuse in OOP?\n",
    "\n",
    "- What is an example where you would want to override an inherited method?\n",
    "\n",
    "- What causes diamond inheritance problems in multiple inheritance?\n",
    "\n",
    "- What use cases might private name mangling have?\n",
    "\n",
    "- How might you utilize inheritance in a program you build?\n",
    "\n",
    "## Challenge Exercises\n",
    "\n",
    "Create 3 classes demonstrating single inheritance\n",
    "\n",
    "Override a method inherited from a parent class\n",
    "\n",
    "Make a class that inherits from 2 parent classes\n",
    "\n",
    "Use name mangling to create a private class variable\n",
    "\n",
    "Analyze method resolution order for a multiple inheritance example"
   ]
  },
  {
   "cell_type": "code",
   "execution_count": 9,
   "id": "7eea6f96",
   "metadata": {},
   "outputs": [
    {
     "name": "stdout",
     "output_type": "stream",
     "text": [
      "Alice's pet is playing.\n"
     ]
    },
    {
     "data": {
      "text/plain": [
       "'Buddy is fetching the ball.'"
      ]
     },
     "execution_count": 9,
     "metadata": {},
     "output_type": "execute_result"
    }
   ],
   "source": [
    "# Create 3 classes demonstrating single inheritance\n",
    "\n",
    "class Animal:\n",
    "    def __init__(self, name, species, age):\n",
    "        self.name = name\n",
    "        self.species = species\n",
    "        self.age = age\n",
    "\n",
    "    def make_sound(self):\n",
    "        return \"Some generic sound\"\n",
    "    def eat(self, food):\n",
    "        return f\"{self.name} is eating {food}.\"\n",
    "    def sleep(self):\n",
    "        return f\"{self.name} is sleeping.\"\n",
    "\n",
    "class Pet:\n",
    "    def __init__(self, owner_name):\n",
    "        self.owner_name = owner_name\n",
    "\n",
    "    def play(self):\n",
    "        print(f\"{self.owner_name}'s pet is playing.\")\n",
    "\n",
    "class Dog(Animal, Pet): # Demonstrating multiple inheritance\n",
    "    def __init__(self, name, age, breed, owner_name, is_trained=False):\n",
    "        super().__init__(name, \"Dog\", age)\n",
    "        Pet.__init__(self, owner_name)\n",
    "        self.breed = breed\n",
    "        self.is_trained = is_trained\n",
    "        self.owner_name = owner_name\n",
    "\n",
    "    def make_sound(self): # Override a method inherited from a parent class\n",
    "        return \"Woof!\"\n",
    "    \n",
    "    def fetch(self, item):\n",
    "        return f\"{self.name} is fetching the {item}.\"\n",
    "    \n",
    "class Cat(Animal):\n",
    "    def __init__(self, name, age, color, is_indoor=True):\n",
    "        super().__init__(name, \"Cat\", age)\n",
    "        self.color = color\n",
    "        self.is_indoor = is_indoor\n",
    "\n",
    "    def make_sound(self): # Override a method inherited from a parent class\n",
    "        return \"Meow!\"\n",
    "    \n",
    "    def scratch(self, furniture):\n",
    "        return f\"{self.name} is scratching the {furniture}.\"\n",
    "    \n",
    "# Example usage\n",
    "dog = Dog(name=\"Buddy\", age=3, breed=\"Golden Retriever\", owner_name=\"Alice\", is_trained=True)\n",
    "cat = Cat(name=\"Whiskers\", age=2, color=\"Tabby\", is_indoor=False)\n",
    "\n",
    "\n",
    "dog.make_sound()\n",
    "dog.play()\n",
    "dog.fetch(\"ball\")\n"
   ]
  },
  {
   "cell_type": "code",
   "execution_count": 6,
   "id": "1eb5bf2a",
   "metadata": {},
   "outputs": [
    {
     "data": {
      "text/plain": [
       "'Whiskers is scratching the chair.'"
      ]
     },
     "execution_count": 6,
     "metadata": {},
     "output_type": "execute_result"
    }
   ],
   "source": [
    "cat.make_sound()\n",
    "cat.scratch(\"chair\")"
   ]
  },
  {
   "cell_type": "code",
   "execution_count": 11,
   "id": "7ed33498",
   "metadata": {},
   "outputs": [
    {
     "name": "stdout",
     "output_type": "stream",
     "text": [
      "Animalia\n"
     ]
    }
   ],
   "source": [
    "# Use name mangling to create a private class variable\n",
    "\n",
    "class Animal:\n",
    "    __kingdom = \"Animalia\"  # Private class variable\n",
    "    def __init__(self, name):\n",
    "        self.name = name\n",
    "\n",
    "    def get_kingdom(self):\n",
    "        return Animal.__kingdom\n",
    "    \n",
    "dog = Animal(\"Buddy\")\n",
    "\n",
    "# Safe access via method\n",
    "print(dog.get_kingdom()) # Accessing the private variable using name mangling)"
   ]
  },
  {
   "cell_type": "code",
   "execution_count": 5,
   "id": "ab54b3d8",
   "metadata": {},
   "outputs": [],
   "source": [
    "# Analyze method resolution order for a multiple inheritance example"
   ]
  },
  {
   "cell_type": "code",
   "execution_count": null,
   "id": "fe896bfa",
   "metadata": {},
   "outputs": [],
   "source": []
  }
 ],
 "metadata": {
  "kernelspec": {
   "display_name": "Python 3",
   "language": "python",
   "name": "python3"
  },
  "language_info": {
   "codemirror_mode": {
    "name": "ipython",
    "version": 3
   },
   "file_extension": ".py",
   "mimetype": "text/x-python",
   "name": "python",
   "nbconvert_exporter": "python",
   "pygments_lexer": "ipython3",
   "version": "3.13.1"
  }
 },
 "nbformat": 4,
 "nbformat_minor": 5
}
