{
 "cells": [
  {
   "cell_type": "markdown",
   "id": "2eda8ce6",
   "metadata": {},
   "source": [
    "## Key Points\n",
    "\n",
    "- Derived classes inherit attributes and behaviors from parent base classes\n",
    "\n",
    "- Overriding inherited methods allows modifying functionality in child classes\n",
    "\n",
    "- Multiple inheritance allows a derived class to inherit from multiple parent classes\n",
    "\n",
    "- Name mangling with double underscores enables a form of private class variables\n",
    "\n",
    "## Reflection Questions\n",
    "\n",
    "- How does inheritance promote code reuse in OOP?\n",
    "\n",
    "- What is an example where you would want to override an inherited method?\n",
    "\n",
    "- What causes diamond inheritance problems in multiple inheritance?\n",
    "\n",
    "- What use cases might private name mangling have?\n",
    "\n",
    "- How might you utilize inheritance in a program you build?\n",
    "\n",
    "## Challenge Exercises\n",
    "\n",
    "Create 3 classes demonstrating single inheritance\n",
    "\n",
    "Override a method inherited from a parent class\n",
    "\n",
    "Make a class that inherits from 2 parent classes\n",
    "\n",
    "Use name mangling to create a private class variable\n",
    "\n",
    "Analyze method resolution order for a multiple inheritance example"
   ]
  },
  {
   "cell_type": "code",
   "execution_count": 1,
   "id": "7eea6f96",
   "metadata": {},
   "outputs": [],
   "source": [
    "# Create 3 classes demonstrating single inheritance\n",
    "\n"
   ]
  },
  {
   "cell_type": "code",
   "execution_count": 2,
   "id": "c6842e62",
   "metadata": {},
   "outputs": [],
   "source": [
    "# Override a method inherited from a parent class\n",
    "\n"
   ]
  },
  {
   "cell_type": "code",
   "execution_count": 3,
   "id": "7aab0061",
   "metadata": {},
   "outputs": [],
   "source": [
    "# Make a class that inherits from 2 parent classes\n",
    "\n"
   ]
  },
  {
   "cell_type": "code",
   "execution_count": 4,
   "id": "7ed33498",
   "metadata": {},
   "outputs": [],
   "source": [
    "# Use name mangling to create a private class variable\n",
    "\n"
   ]
  },
  {
   "cell_type": "code",
   "execution_count": 5,
   "id": "ab54b3d8",
   "metadata": {},
   "outputs": [],
   "source": [
    "# Analyze method resolution order for a multiple inheritance example"
   ]
  },
  {
   "cell_type": "code",
   "execution_count": null,
   "id": "fe896bfa",
   "metadata": {},
   "outputs": [],
   "source": []
  }
 ],
 "metadata": {
  "kernelspec": {
   "display_name": "Python 3",
   "language": "python",
   "name": "python3"
  },
  "language_info": {
   "codemirror_mode": {
    "name": "ipython",
    "version": 3
   },
   "file_extension": ".py",
   "mimetype": "text/x-python",
   "name": "python",
   "nbconvert_exporter": "python",
   "pygments_lexer": "ipython3",
   "version": "3.13.7"
  }
 },
 "nbformat": 4,
 "nbformat_minor": 5
}
