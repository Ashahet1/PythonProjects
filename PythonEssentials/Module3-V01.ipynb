{
 "cells": [
  {
   "cell_type": "markdown",
   "id": "80c6eff9",
   "metadata": {},
   "source": [
    "## Top 3 Key Points\n",
    "\n",
    "Plain asserts give easy yet descriptive test failures\n",
    "\n",
    "Test classes group tests and execute setup/teardown\n",
    "\n",
    "Parametrized tests run multiple times with different data\n",
    "\n",
    "## Reflection Questions\n",
    "**Test Organization Approaches**\n",
    "There are a few common ways to organize tests, each with its own benefits. The most straightforward approach is the functional approach, where test files contain a series of functions that each test a specific piece of code. This is great for simple projects. For larger projects, the class-based approach is often used to group related tests together into a single class. This helps organize a larger number of tests and share common setup and teardown logic. A hybrid of these approaches can also be used, combining both classes and functions in a modular way.\n",
    "\n",
    "Tradeoffs Between Test Classes and Functions\n",
    "Test Functions: These are straightforward and easy to write. They are ideal for writing simple, isolated tests that don't share state or setup logic. The main tradeoff is that for complex testing scenarios, you might end up with redundant code if multiple tests need the same setup.\n",
    "\n",
    "Test Classes: Classes are a great way to group related tests and share setup and teardown logic using methods. They help to reduce code duplication and make your test suite more organized. The tradeoff is that they introduce a bit more complexity and can be overkill for very small projects or simple tests.\n",
    "\n",
    "**Usefulness of Parameterized Tests**\n",
    "Parameterized tests are a very useful technique for running the same test logic with multiple different inputs. They are particularly effective when:\n",
    "\n",
    "Testing a function with a range of valid and invalid inputs.\n",
    "\n",
    "Checking for boundary conditions (e.g., testing with zero, a negative number, or a very large number).\n",
    "\n",
    "Verifying that a function works correctly with various data types.\n",
    "\n",
    "Reducing repetitive code for tests that follow the same pattern but use different data.\n",
    "\n",
    "**Familiarity with Python Assertions**\n",
    "The core of testing in Python relies on the assert statement. Here are some of the most common assertion types:\n",
    "\n",
    "assert a == b: Verifies that two values are equal.\n",
    "\n",
    "assert a != b: Checks that two values are not equal.\n",
    "\n",
    "assert a > b or assert a < b: Checks for greater than or less than.\n",
    "\n",
    "assert a in collection: Confirms that an item is present in a list, set, or other collection.\n",
    "\n",
    "assert a is None: Checks if a variable is None.\n",
    "\n",
    "Using pytest you can also use pytest.raises() to assert that a specific exception is raised when a function is called with certain inputs.\n",
    "\n",
    "**Remaining Questions about Writing Advanced Tests**\n",
    "When moving beyond basic testing, here are some questions that often arise, along with brief answers:\n",
    "\n",
    "How can I test code that interacts with external services, like databases or APIs?\n",
    "You can use mocking to simulate the behavior of these external services. Tools like unittest.mock or pytest-mock allow you to replace a real object with a \"mock\" object that you can control and inspect.\n",
    "\n",
    "What is the most effective way to handle testing performance-critical code?\n",
    "You can use performance testing frameworks to measure the execution time of your code. You can also use tools like pytest-benchmark to compare the performance of different implementations of the same function.\n",
    "\n",
    "How do I make my tests run faster?\n",
    "You can improve test speed by writing independent tests that don't rely on each other. You can also use parallelization, which allows your test suite to run multiple tests at the same time across different processes or threads.\n",
    "\n",
    "## Challenge Exercises\n",
    "\n",
    "Add 3 plain assert statements to an existing test file\n",
    "\n",
    "Create a test class with 2 methods that share setup logic\n",
    "\n",
    "Parameterize a test to run with both string and integer inputs\n",
    "\n",
    "Implement a teardown method to clean up files\n",
    "\n",
    "Handle a failure by running the test in debug mode"
   ]
  },
  {
   "cell_type": "code",
   "execution_count": 1,
   "id": "3c92c512",
   "metadata": {},
   "outputs": [],
   "source": [
    "# Add a 3 plain assert statements to a file\n",
    "def test_plain_asserts():\n",
    "    assert 2 + 2 == 4\n",
    "    assert \"pytest\".upper() == \"PYTEST\"\n",
    "    assert len([1, 2, 3]) == 3"
   ]
  },
  {
   "cell_type": "code",
   "execution_count": null,
   "id": "9c9a4335",
   "metadata": {},
   "outputs": [],
   "source": [
    "# Create a test class with 2 methods that share setup logic\n",
    "class TestSharedSetup:\n",
    "    def setup_method(self):\n",
    "        # shared setup logic\n",
    "        self.data = [1, 2, 3]\n",
    "\n",
    "    def test_sum(self):\n",
    "        assert sum(self.data) == 6\n",
    "    def test_length(self):\n",
    "        assert len(self.data) == 3"
   ]
  },
  {
   "cell_type": "code",
   "execution_count": 3,
   "id": "b6b872b9",
   "metadata": {},
   "outputs": [],
   "source": [
    "# Parameterize test with string & integer inputs\n",
    "import pytest\n",
    "\n",
    "@pytest.mark.parametrize(\"value, expected\", [\n",
    "    (\"123\", 123),   # string input\n",
    "    (456, 456),     # integer input\n",
    "])\n",
    "def test_convert_to_int(value, expected):\n",
    "    assert int(value) == expected\n"
   ]
  },
  {
   "cell_type": "code",
   "execution_count": 4,
   "id": "4a6bc9b1",
   "metadata": {},
   "outputs": [],
   "source": [
    "# Implement a teardown method to clean up files\n",
    "import os\n",
    "\n",
    "class TestFileHandling:\n",
    "    def setup_method(self):\n",
    "        self.filename = \"temp.txt\"\n",
    "        with open(self.filename, \"w\") as f:\n",
    "            f.write(\"pytest demo\")\n",
    "\n",
    "    def test_file_exists(self):\n",
    "        assert os.path.exists(self.filename)\n",
    "\n",
    "    def teardown_method(self):\n",
    "        if os.path.exists(self.filename):\n",
    "            os.remove(self.filename)\n"
   ]
  },
  {
   "cell_type": "code",
   "execution_count": 6,
   "id": "602ff549",
   "metadata": {},
   "outputs": [],
   "source": [
    "import os\n",
    "class TestFileHandling:\n",
    "    def setup_method(self):\n",
    "        self.filename = \"temp.txt\"\n",
    "        with open(self.filename, \"w\") as f:\n",
    "            f.write(\"pytest demo\")\n",
    "    def test_file_exists(self):\n",
    "        assert os.path.exists(self.filename)\n",
    "    def teardown_method(self):\n",
    "        if os.path.exists(self.filename):\n",
    "            os.remove(self.filename)    "
   ]
  },
  {
   "cell_type": "code",
   "execution_count": 5,
   "id": "e36b8dea",
   "metadata": {},
   "outputs": [],
   "source": [
    "# Handle a failure by running in debug mode\n",
    "def test_fail_debug():\n",
    "    x = 10\n",
    "    y = 5\n",
    "    import pdb; pdb.set_trace()   # drop into debugger on failure\n",
    "    assert x == y   # will fail (10 != 5)\n"
   ]
  }
 ],
 "metadata": {
  "kernelspec": {
   "display_name": "Python 3",
   "language": "python",
   "name": "python3"
  },
  "language_info": {
   "codemirror_mode": {
    "name": "ipython",
    "version": 3
   },
   "file_extension": ".py",
   "mimetype": "text/x-python",
   "name": "python",
   "nbconvert_exporter": "python",
   "pygments_lexer": "ipython3",
   "version": "3.13.7"
  }
 },
 "nbformat": 4,
 "nbformat_minor": 5
}
