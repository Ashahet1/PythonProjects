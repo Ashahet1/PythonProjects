{
 "cells": [
  {
   "cell_type": "markdown",
   "id": "44335ad3",
   "metadata": {},
   "source": [
    "## Key Points\n",
    "Test Failure Output - Pytest results containing details on which tests failed and why.\n",
    "\n",
    "PDB (Python Debugger) - Tool to debug Python code by stepping through execution.\n",
    "\n",
    "Pytest Fixtures - Shared test data/state managed by Pytest.\n",
    "\n",
    "Pytest Plugins - Extensions that provide added Pytest functionality.\n",
    "\n",
    "Pytest Options - Command line flags that control Pytest test runner behavior."
   ]
  },
  {
   "cell_type": "code",
   "execution_count": 9,
   "id": "769b27b9",
   "metadata": {},
   "outputs": [],
   "source": [
    "# Add debugger breakpoints to inspect variables in a failing test\n",
    "def test_with_breakpoint():\n",
    "    a, b = 5, 10\n",
    "    import pdb; pdb.set_trace()   # inspect variables here\n",
    "    assert a + b == 20   # This will fail (5+10=15, not 20)\n",
    "\n",
    "\n",
    "#pytest -s -k test_with_breakpoint and you’ll drop into PDB to inspect a and b.\n",
    "\n"
   ]
  },
  {
   "cell_type": "code",
   "execution_count": 10,
   "id": "24d05f70",
   "metadata": {},
   "outputs": [],
   "source": [
    "# Run tests using the pytest “last failed” option\n",
    "# No code required — this is a command-line option.\n",
    "\n",
    "# Example:\n",
    "\n",
    "# pytest --lf\n",
    "# This reruns only the tests that failed in the last run.\n",
    "\n"
   ]
  },
  {
   "cell_type": "code",
   "execution_count": 11,
   "id": "a1037e4c",
   "metadata": {},
   "outputs": [],
   "source": [
    "# Create a fixture to load a configuration file for all tests\n",
    "import pytest\n",
    "import json\n",
    "\n",
    "@pytest.fixture(scope=\"session\")\n",
    "def config():\n",
    "    with open(\"config.json\", \"w\") as f:\n",
    "        f.write('{\"db\": \"sqlite\", \"debug\": true}')\n",
    "    with open(\"config.json\") as f:\n",
    "        return json.load(f)\n",
    "\n",
    "def test_db_config(config):\n",
    "    assert config[\"db\"] == \"sqlite\"\n",
    "\n",
    "def test_debug_flag(config):\n",
    "    assert config[\"debug\"] is True\n"
   ]
  },
  {
   "cell_type": "code",
   "execution_count": 12,
   "id": "6865ea88",
   "metadata": {},
   "outputs": [],
   "source": [
    "# Handle a crash in a test function with a pytest exception handler\n",
    "import pytest\n",
    "\n",
    "def risky_divide(x, y):\n",
    "    return x / y\n",
    "\n",
    "def test_divide_by_zero():\n",
    "    with pytest.raises(ZeroDivisionError):\n",
    "        risky_divide(10, 0)"
   ]
  },
  {
   "cell_type": "markdown",
   "id": "4b4e62a8",
   "metadata": {},
   "source": [
    " ✅ Install the pytest-xdist plugin for parallel testing\n",
    "On terminal:\n",
    "\n",
    "pip install pytest-xdist\n",
    "Run tests in parallel with 4 workers:\n",
    "\n",
    "pytest -n 4\n",
    "\n"
   ]
  },
  {
   "cell_type": "markdown",
   "id": "111dc1d6",
   "metadata": {},
   "source": []
  }
 ],
 "metadata": {
  "kernelspec": {
   "display_name": "Python 3",
   "language": "python",
   "name": "python3"
  },
  "language_info": {
   "codemirror_mode": {
    "name": "ipython",
    "version": 3
   },
   "file_extension": ".py",
   "mimetype": "text/x-python",
   "name": "python",
   "nbconvert_exporter": "python",
   "pygments_lexer": "ipython3",
   "version": "3.13.7"
  }
 },
 "nbformat": 4,
 "nbformat_minor": 5
}
