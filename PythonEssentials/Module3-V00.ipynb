{
 "cells": [
  {
   "cell_type": "markdown",
   "id": "d648ed3e",
   "metadata": {},
   "source": [
    "## Top 3 Key Points\n",
    "\n",
    "Testing helps validate code works as expected and catch bugs early\n",
    "\n",
    "pytest provides a straightforward way to write and run test functions\n",
    "\n",
    "Assertions compare actual vs expected results in tests\n",
    "\n",
    "## Reflection Questions\n",
    "\n",
    "What testing approaches have you tried before with Python code?\n",
    "\n",
    "What challenges have you faced when trying to test your code?\n",
    "\n",
    "How could you incorporate more automated testing into your workflows?\n",
    "\n",
    "Which pytest features seem most useful for your projects?\n",
    "\n",
    "What still feels unclear about testing in Python?\n",
    "\n",
    "## Key Points\n",
    "\n",
    "Plain Asserts - Basic assertion statements in Python used to verify values and results.\n",
    "\n",
    "Test Classes - Classes that contain multiple related test methods and setup/teardown logic.\n",
    "\n",
    "Parametrize - Pytest decorator to run a test multiple times with different arguments.\n",
    "\n",
    "Setup Method - Code that runs before each test method in a Test Class.\n",
    "\n",
    "Teardown Method - Code that runs after each test method in a Test Class.\n",
    "\n",
    "## Challenge Exercises\n",
    "\n",
    "Add 5 test cases to an existing Python file using pytest\n",
    "\n",
    "Parameterize a test function to run it with multiple inputs\n",
    "\n",
    "Create a test class with 3 related test methods\n",
    "\n",
    "Handle a failing test case by debugging with PDB\n",
    "\n",
    "Use a pytest fixture to provide test data to multiple tests"
   ]
  },
  {
   "cell_type": "code",
   "execution_count": 1,
   "id": "016cf868",
   "metadata": {},
   "outputs": [],
   "source": [
    "# Add 5 Test Cases to an existing Python File using \n",
    "def add(a,b):\n",
    "    return a+b\n",
    "\n",
    "def test_addition_cases():\n",
    "    assert add(1,2) == 3\n",
    "    assert add(1, 0) == 4\n",
    "    assert add(1, 5) == 6\n",
    "    assert add(2, -3) == -1\n",
    "    assert add(100, 200) == 300"
   ]
  },
  {
   "cell_type": "code",
   "execution_count": 2,
   "id": "b3fb8e84",
   "metadata": {},
   "outputs": [],
   "source": [
    "# parameterize a test function to run it with multiple inputs\n",
    "import pytest\n",
    "\n",
    "@pytest.mark.parametrize(\"a, b, expected\", [\n",
    "    (1,2,3),\n",
    "    (0,0,0),\n",
    "    (-1,-1,-2),\n",
    "    (5,10,15),\n",
    "])\n",
    "\n",
    "def test_add_param(a,b,expected):\n",
    "    assert add(a,b) == expected"
   ]
  },
  {
   "cell_type": "code",
   "execution_count": 3,
   "id": "bfb4f8f5",
   "metadata": {},
   "outputs": [],
   "source": [
    "# Create a test class with 3 diff test methods\n",
    "class TestMathOperations:\n",
    "    def test_addition(self):\n",
    "        assert add(2,3) == 5\n",
    "    def test_subtraction(self):\n",
    "        assert 3-2 == 1\n",
    "    def test_multiply(self):\n",
    "        assert 4*2 == 8\n"
   ]
  },
  {
   "cell_type": "code",
   "execution_count": 4,
   "id": "63e4b939",
   "metadata": {},
   "outputs": [],
   "source": [
    "# Handle a Failing test case with the Python PDB\n",
    "import pytest\n",
    "def test_fail_case_pdb():\n",
    "    x=5\n",
    "    y=10\n",
    "    import pdb; pdb.set_trace() # debugging starts here if test fails\n",
    "    assert x+y == 20 # This will fail (expected is 15 and not 20)\n"
   ]
  },
  {
   "cell_type": "code",
   "execution_count": 5,
   "id": "cdb23065",
   "metadata": {},
   "outputs": [],
   "source": [
    "# Use a Pytest Fixture\n",
    "\n",
    "import pytest\n",
    "\n",
    "@pytest.fixture\n",
    "def numbers():\n",
    "    return [1, 2, 3, 4, 5]\n",
    "\n",
    "def test_sum(numbers):\n",
    "    assert sum(numbers) == 15\n",
    "\n",
    "def test_max(numbers):\n",
    "    assert max(numbers) == 5\n",
    "\n",
    "def test_min(numbers):\n",
    "    assert min(numbers) == 1"
   ]
  }
 ],
 "metadata": {
  "kernelspec": {
   "display_name": "Python 3",
   "language": "python",
   "name": "python3"
  },
  "language_info": {
   "codemirror_mode": {
    "name": "ipython",
    "version": 3
   },
   "file_extension": ".py",
   "mimetype": "text/x-python",
   "name": "python",
   "nbconvert_exporter": "python",
   "pygments_lexer": "ipython3",
   "version": "3.13.7"
  }
 },
 "nbformat": 4,
 "nbformat_minor": 5
}
