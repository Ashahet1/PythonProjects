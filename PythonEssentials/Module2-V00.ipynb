{
 "cells": [
  {
   "cell_type": "markdown",
   "id": "8e53c5b2",
   "metadata": {},
   "source": [
    "## Key Terms:\n",
    "\n",
    "**Function**: A reusable block of code that performs a specific task. Defined using the def keyword.\n",
    "\n",
    "**Arguments**: Values passed into a function when calling it. Allows customizing behavior.\n",
    "\n",
    "**Variable** Arguments: Allows passing an arbitrary number of arguments to a function.\n",
    "\n",
    "**Keyword Arguments**: Arguments passed by name rather than position. Can have default values.\n",
    "\n",
    "**Class**: Blueprint for creating objects. Defines attributes and methods.\n",
    "\n",
    "**Instance**: Object that is created from a class. Has access to class attributes and methods.\n",
    "\n",
    "**Method**: Function that belongs to a class. Accessed via instance or class name.\n",
    "\n",
    "**Constructor**: Special method that runs when an instance is created. Used to initialize attributes.\n",
    "\n",
    "**Inheritance**: Creating a child class from parent class. Child inherits attributes and methods."
   ]
  },
  {
   "cell_type": "code",
   "execution_count": null,
   "id": "609f422d",
   "metadata": {},
   "outputs": [],
   "source": [
    "# define a function that takes more keyword arguements\n",
    "def stat(**kwargs):\n",
    "    for key, value in kwargs.items():\n",
    "        print(f\"{key}: {value}\")\n",
    "\n",
    "stat(speed=\"slow\", active=False, weight=20)"
   ]
  },
  {
   "cell_type": "code",
   "execution_count": 4,
   "id": "032f52dd",
   "metadata": {},
   "outputs": [
    {
     "name": "stdout",
     "output_type": "stream",
     "text": [
      "speed --> slow\n",
      "active --> False\n",
      "weight --> 20\n"
     ]
    }
   ],
   "source": [
    "def stat(**kwargs):\n",
    "    for key, value in kwargs.items():\n",
    "        print(key, \"-->\", value)\n",
    "\n",
    "stat(speed=\"slow\", active=False, weight=20)"
   ]
  },
  {
   "cell_type": "code",
   "execution_count": null,
   "id": "0b6bad48",
   "metadata": {},
   "outputs": [],
   "source": []
  }
 ],
 "metadata": {
  "kernelspec": {
   "display_name": "Python 3",
   "language": "python",
   "name": "python3"
  },
  "language_info": {
   "codemirror_mode": {
    "name": "ipython",
    "version": 3
   },
   "file_extension": ".py",
   "mimetype": "text/x-python",
   "name": "python",
   "nbconvert_exporter": "python",
   "pygments_lexer": "ipython3",
   "version": "3.13.7"
  }
 },
 "nbformat": 4,
 "nbformat_minor": 5
}
