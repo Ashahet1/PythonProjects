{
 "cells": [
  {
   "cell_type": "markdown",
   "id": "882af524",
   "metadata": {},
   "source": [
    "## Minimal Python book: Create functions\n",
    "\n",
    "### Top 3 Key Points\n",
    "\n",
    "Functions allow reusable blocks of logic in code\n",
    "\n",
    "Functions can optionally accept inputs and return outputs\n",
    "\n",
    "Functions form the core computation of most Python programs\n",
    "\n",
    "### Reflection Questions\n",
    "\n",
    "-> What real-world examples can you think of that could be implemented as Python functions?\n",
    "\n",
    "-> What are some cases where you may want functions with no inputs and no returns?\n",
    "\n",
    "-> Why is returning values useful when writing functions?\n",
    "\n",
    "-> What problems could arise from functions that have side-effects?\n",
    "\n",
    "-> How could functions help improve the maintainability of a Python program?\n",
    "\n",
    "### Challenge Exercises\n",
    "\n",
    "-> Write a function to convert temperatures from Fahrenheit to Celsius.\n",
    "\n",
    "-> Create a function that prints some output based on input.\n",
    "\n",
    "-> Define a function that returns a random number.\n",
    "\n",
    "-> Implement a function that calculates the area of various shapes depending on arguments.\n",
    "\n",
    "-> Write a reusable greeting function that takes a name input.\n"
   ]
  },
  {
   "cell_type": "code",
   "execution_count": 15,
   "id": "3ed433d2",
   "metadata": {},
   "outputs": [],
   "source": [
    "# Write a function to convert temperatures from Fahrenheit to Celsius.\n",
    "def fahrenheit_to_celsius(fahrenheit):\n",
    "    \"\"\" Converts a temperature from Farenheit to Celius\n",
    "\n",
    "    Args: fahrenheit (float): The temperature in Farenheit.\n",
    "\n",
    "    Returns:\n",
    "        float: The Temperature in Celsius\n",
    "    \"\"\"\n",
    "    celsius = (fahrenheit - 32) * 5.0/9.0\n",
    "    return celsius\n",
    "\n",
    "# Write a reusable greeting function that takes a name input."
   ]
  },
  {
   "cell_type": "code",
   "execution_count": 4,
   "id": "2c4bac69",
   "metadata": {},
   "outputs": [
    {
     "name": "stdout",
     "output_type": "stream",
     "text": [
      "68 is equal to 20.0\n"
     ]
    }
   ],
   "source": [
    "# Create a function that prints some output based on input.\n",
    "f_temp = 68\n",
    "c_temp = fahrenheit_to_celsius(f_temp)\n",
    "print(f\"{f_temp} is equal to {c_temp}\")"
   ]
  },
  {
   "cell_type": "code",
   "execution_count": 14,
   "id": "9d159867",
   "metadata": {},
   "outputs": [
    {
     "name": "stdout",
     "output_type": "stream",
     "text": [
      "0.36095554134293706\n"
     ]
    }
   ],
   "source": [
    "# Define a function that returns a random number.\n",
    "import numpy as np\n",
    "def RandomNumber():\n",
    "    randNum = np.random.rand()\n",
    "    return randNum\n",
    "print(RandomNumber())\n",
    "\n"
   ]
  },
  {
   "cell_type": "code",
   "execution_count": 12,
   "id": "1c08f1bd",
   "metadata": {},
   "outputs": [
    {
     "name": "stdout",
     "output_type": "stream",
     "text": [
      "0.8723419078733377\n"
     ]
    }
   ],
   "source": [
    "import random\n",
    "\n",
    "def random_number_python():\n",
    "    \"\"\"Returns a random floating-point number between 0.0 and 1.0.\"\"\"\n",
    "    return random.random()\n",
    "\n",
    "print(random_number_python())"
   ]
  },
  {
   "cell_type": "code",
   "execution_count": 10,
   "id": "55085a6c",
   "metadata": {},
   "outputs": [],
   "source": [
    "import math\n",
    "\n",
    "def calculate_area(*args):\n",
    "    \"\"\"\n",
    "    Calculates the area of a circle, rectangle, or triangle based on arguments.\n",
    "\n",
    "    Args:\n",
    "        *args: Variable number of arguments.\n",
    "               - 1 argument: radius for a circle.\n",
    "               - 2 arguments: length and width for a rectangle.\n",
    "               - 3 arguments: side lengths for a triangle (Heron's formula).\n",
    "\n",
    "    Returns:\n",
    "        float: The calculated area, or a string with an error message.\n",
    "    \"\"\"\n",
    "    num_args = len(args)\n",
    "\n",
    "    if num_args == 1:\n",
    "        # Circle: Area = pi * r^2\n",
    "        radius = args[0]\n",
    "        if radius < 0:\n",
    "            return \"Error: Radius cannot be negative.\"\n",
    "        return math.pi * radius**2\n",
    "    \n",
    "    elif num_args == 2:\n",
    "        # Rectangle: Area = length * width\n",
    "        length, width = args\n",
    "        if length < 0 or width < 0:\n",
    "            return \"Error: Length and width cannot be negative.\"\n",
    "        return length * width\n",
    "    \n",
    "    elif num_args == 3:\n",
    "        # Triangle: Heron's formula\n",
    "        a, b, c = args\n",
    "        if a <= 0 or b <= 0 or c <= 0:\n",
    "            return \"Error: Side lengths must be positive.\"\n",
    "        # Check if a valid triangle can be formed\n",
    "        if (a + b <= c) or (a + c <= b) or (b + c <= a):\n",
    "            return \"Error: Invalid triangle side lengths.\"\n",
    "        \n",
    "        # Calculate semi-perimeter\n",
    "        s = (a + b + c) / 2\n",
    "        \n",
    "        # Use Heron's formula\n",
    "        area = math.sqrt(s * (s - a) * (s - b) * (s - c))\n",
    "        return area\n",
    "    \n",
    "    else:\n",
    "        # Handle invalid number of arguments\n",
    "        return \"Error: Invalid number of arguments. Please provide 1 (circle), 2 (rectangle), or 3 (triangle).\"\n",
    "\n"
   ]
  },
  {
   "cell_type": "code",
   "execution_count": 11,
   "id": "e8ea91ec",
   "metadata": {},
   "outputs": [
    {
     "name": "stdout",
     "output_type": "stream",
     "text": [
      "Area of circle: 78.53981633974483\n",
      "Area of circle: 153.93804002589985\n",
      "Area of rectangle: 24\n",
      "Area of rectangle: 0\n",
      "Area of triangle: 6.0\n",
      "Area of invalid triangle: Error: Invalid triangle side lengths.\n",
      "Invalid arguments: Error: Invalid number of arguments. Please provide 1 (circle), 2 (rectangle), or 3 (triangle).\n",
      "All zero arguements: Error: Side lengths must be positive.\n",
      "Area with negative radius: Error: Radius cannot be negative.\n"
     ]
    }
   ],
   "source": [
    "# --- Example Usage ---\n",
    "\n",
    "# Circle with radius 5\n",
    "print(f\"Area of circle: {calculate_area(5)}\")\n",
    "\n",
    "print(f\"Area of circle: {calculate_area(7)}\")\n",
    "\n",
    "# Rectangle with length 4 and width 6\n",
    "print(f\"Area of rectangle: {calculate_area(4, 6)}\")\n",
    "\n",
    "print(f\"Area of rectangle: {calculate_area(0,0)}\")\n",
    "\n",
    "# Triangle with sides 3, 4, 5\n",
    "print(f\"Area of triangle: {calculate_area(3, 4, 5)}\")\n",
    "\n",
    "# Invalid triangle side lengths\n",
    "print(f\"Area of invalid triangle: {calculate_area(1, 2, 5)}\")\n",
    "\n",
    "# Invalid number of arguments\n",
    "print(f\"Invalid arguments: {calculate_area(1, 2, 3, 4)}\")\n",
    "\n",
    "print(f\"All zero arguements: {calculate_area(0,0,0)}\")\n",
    "\n",
    "# Negative input\n",
    "print(f\"Area with negative radius: {calculate_area(-5)}\")\n"
   ]
  },
  {
   "cell_type": "markdown",
   "id": "71089fdc",
   "metadata": {},
   "source": [
    "***Takeaway: I need to practise python code because I relased that most important in identation in python same code but still got syntax error***"
   ]
  },
  {
   "cell_type": "markdown",
   "id": "e321e3d6",
   "metadata": {},
   "source": []
  }
 ],
 "metadata": {
  "kernelspec": {
   "display_name": "Python 3",
   "language": "python",
   "name": "python3"
  },
  "language_info": {
   "codemirror_mode": {
    "name": "ipython",
    "version": 3
   },
   "file_extension": ".py",
   "mimetype": "text/x-python",
   "name": "python",
   "nbconvert_exporter": "python",
   "pygments_lexer": "ipython3",
   "version": "3.13.7"
  }
 },
 "nbformat": 4,
 "nbformat_minor": 5
}
