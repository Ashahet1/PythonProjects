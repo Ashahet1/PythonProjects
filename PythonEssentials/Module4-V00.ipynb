{
 "cells": [
  {
   "cell_type": "markdown",
   "id": "66449c49",
   "metadata": {},
   "source": [
    "# Reflection Questions\n",
    "\n",
    "## Manual Task Automation\n",
    "\n",
    "Many repetitive manual tasks can be automated with a custom CLI tool. Common examples include:\n",
    "\n",
    "File processing: Renaming, moving, or converting large batches of files.\n",
    "\n",
    "Data transformation: Cleaning, reformatting, or aggregating data from various sources into a single format.\n",
    "\n",
    "System administration: Running recurring maintenance scripts or deploying applications.\n",
    "\n",
    "Essentially, any multi-step process that you do repeatedly and manually is a good candidate for automation.\n",
    "\n",
    "**ArgParse vs. Click**\n",
    "\n",
    "Choosing between argparse and click will affect a CLI tool's design in a few ways:\n",
    "\n",
    "argparse: This is a part of Python's standard library, so it doesn't require any additional dependencies. It offers extensive control and flexibility but can be more verbose, requiring you to manually define arguments and parse the results. It's great when you need fine-grained control or want to avoid external libraries.\n",
    "\n",
    "Click: As a third-party library, click is often considered more intuitive and less verbose. It uses a decorator-based approach to define commands and options, which makes the code cleaner and easier to read. Click also handles common tasks like help text generation automatically. It's a great choice for quickly building well-structured CLIs with a consistent feel.\n",
    "\n",
    "**CLI Dependencies**\n",
    "\n",
    "The dependencies an automation tool needs depend on the task. A simple tool for file renaming might not need any external libraries, while one that processes data would likely need:\n",
    "\n",
    "Data handling libraries: Packages like Pandas or NumPy for manipulating data structures.\n",
    "\n",
    "File format libraries: Libraries for parsing specific formats, such as requests for making web requests, or libraries for handling JSON, YAML, or XML.\n",
    "\n",
    "Core functionality libraries: Tools that perform the specific automation, like a library for interacting with an API or a cloud service.\n",
    "\n",
    "**Easy Installation**\n",
    "\n",
    "You can make a CLI easy for others to install and run by following packaging best practices:\n",
    "\n",
    "Packaging: Use a pyproject.toml file to define your project's metadata and dependencies. This allows users to install your CLI and its dependencies with a single command, like pip install .\n",
    "\n",
    "Entry Points: Use an entry_points key in your project configuration to create a command that automatically gets added to the user's system PATH. This lets them run your tool from any directory just by typing its name.\n",
    "\n",
    "Clear Documentation: Include clear help text using your chosen library and provide an easy-to-read README file with installation and usage instructions.\n",
    "\n",
    "Value of CLI Automation\n",
    "\n",
    "CLI automation provides value by saving time and ensuring consistency. It standardizes a process so it can be run the same way every time, reducing the chance of human error. It also allows non-technical users to perform complex operations without needing to understand the underlying code."
   ]
  },
  {
   "cell_type": "markdown",
   "id": "80730436",
   "metadata": {},
   "source": [
    "# Challenge Questions"
   ]
  },
  {
   "cell_type": "markdown",
   "id": "31077429",
   "metadata": {},
   "source": [
    "1. Reformat a JSON file\n",
    "\n",
    "    Why: Reformatting a JSON file is a common task to make the data readable and easier to debug. Raw JSON output is often just a single, unformatted line of text. Automating this with a CLI is much faster than using an online tool or a text editor.\n",
    "\n",
    "    How: You can build a CLI that takes a JSON file as an input and uses Python's built-in json module to load and then re-dump the data with a specific indentation level. We'll use the Click library because it makes handling file paths and arguments very straightforward."
   ]
  },
  {
   "cell_type": "code",
   "execution_count": 3,
   "id": "19ba9956",
   "metadata": {},
   "outputs": [
    {
     "name": "stderr",
     "output_type": "stream",
     "text": [
      "Usage: ipykernel_launcher.py [OPTIONS] INPUT_FILE\n",
      "Try 'ipykernel_launcher.py --help' for help.\n",
      "\n",
      "Error: No such option: --f\n"
     ]
    },
    {
     "ename": "SystemExit",
     "evalue": "2",
     "output_type": "error",
     "traceback": [
      "An exception has occurred, use %tb to see the full traceback.\n",
      "\u001b[31mSystemExit\u001b[39m\u001b[31m:\u001b[39m 2\n"
     ]
    }
   ],
   "source": [
    "import click\n",
    "import json\n",
    "\n",
    "@click.command()\n",
    "@click.argument('input_file', type=click.Path(exists=True))\n",
    "@click.option('--indent', default=4, help='Number of spaces for indentation.')\n",
    "def reformat_json(input_file, indent):\n",
    "    \"\"\"\n",
    "    Reformats a JSON file for better readability.\n",
    "    \"\"\"\n",
    "    with open(input_file, 'r') as f:\n",
    "        data = json.load(f)\n",
    "\n",
    "    print(json.dumps(data, indent=indent))\n",
    "\n",
    "if __name__ == '__main__':\n",
    "    reformat_json()"
   ]
  },
  {
   "cell_type": "markdown",
   "id": "4bb07f49",
   "metadata": {},
   "source": [
    "2. Preprocess Data\n",
    "    \n",
    "    Why: Data preprocessing is a necessary first step in any data science or machine learning project. A CLI tool allows you to standardize these steps and make them reproducible. You can run the same cleaning process on a new dataset with a single command.\n",
    "\n",
    "    How: This tool would use a library like Pandas to handle the data. The CLI would take an input file path, perform a simple preprocessing step (like dropping a column), and save the cleaned data to a new file."
   ]
  },
  {
   "cell_type": "code",
   "execution_count": 5,
   "id": "7b57c3a2",
   "metadata": {},
   "outputs": [
    {
     "name": "stderr",
     "output_type": "stream",
     "text": [
      "Usage: ipykernel_launcher.py [OPTIONS] INPUT_FILE OUTPUT_FILE\n",
      "Try 'ipykernel_launcher.py --help' for help.\n",
      "\n",
      "Error: No such option: --f\n"
     ]
    },
    {
     "ename": "SystemExit",
     "evalue": "2",
     "output_type": "error",
     "traceback": [
      "An exception has occurred, use %tb to see the full traceback.\n",
      "\u001b[31mSystemExit\u001b[39m\u001b[31m:\u001b[39m 2\n"
     ]
    },
    {
     "name": "stderr",
     "output_type": "stream",
     "text": [
      "C:\\Users\\rishah\\AppData\\Local\\Packages\\PythonSoftwareFoundation.Python.3.13_qbz5n2kfra8p0\\LocalCache\\local-packages\\Python313\\site-packages\\IPython\\core\\interactiveshell.py:3707: UserWarning: To exit: use 'exit', 'quit', or Ctrl-D.\n",
      "  warn(\"To exit: use 'exit', 'quit', or Ctrl-D.\", stacklevel=1)\n"
     ]
    }
   ],
   "source": [
    "import click\n",
    "import pandas as pd\n",
    "\n",
    "@click.command()\n",
    "@click.argument('input_file', type=click.Path(exists=True))\n",
    "@click.argument('output_file', type=click.Path())\n",
    "@click.option('--drop-column', help='Name of the column to drop.')\n",
    "def preprocess_data(input_file, output_file, drop_column):\n",
    "    \"\"\"\n",
    "    Preprocesses data by dropping a specified column.\n",
    "    \"\"\"\n",
    "    try:\n",
    "        df = pd.read_csv(input_file)\n",
    "        if drop_column:\n",
    "            df = df.drop(columns=[drop_column])\n",
    "        df.to_csv(output_file, index=False)\n",
    "        click.echo(f\"Data preprocessed and saved to {output_file}\")\n",
    "    except FileNotFoundError:\n",
    "        click.echo(f\"Error: The file {input_file} was not found.\")\n",
    "\n",
    "if __name__ == '__main__':\n",
    "    preprocess_data()"
   ]
  },
  {
   "cell_type": "markdown",
   "id": "de92f9d9",
   "metadata": {},
   "source": [
    "3. Package a Project\n",
    "\n",
    "    Why: Packaging your CLI tool is crucial for sharing it with others. It allows them to install and run your tool easily using a single pip install command, without needing to manually copy files or manage dependencies.\n",
    "\n",
    "    How: This involves creating a pyproject.toml file to define your project's metadata and dependencies. The key is to define an entry point that tells the system where to find the command. This is what allows users to run your tool from anywhere on their system.\n"
   ]
  },
  {
   "cell_type": "code",
   "execution_count": 6,
   "id": "f18e93fe",
   "metadata": {
    "vscode": {
     "languageId": "xml"
    }
   },
   "outputs": [
    {
     "ename": "SyntaxError",
     "evalue": "invalid syntax. Maybe you meant '==' or ':=' instead of '='? (1122263134.py, line 5)",
     "output_type": "error",
     "traceback": [
      "  \u001b[36mCell\u001b[39m\u001b[36m \u001b[39m\u001b[32mIn[6]\u001b[39m\u001b[32m, line 5\u001b[39m\n\u001b[31m    \u001b[39m\u001b[31m{ name=\"Your Name\", email=\"your.email@example.com\" },\u001b[39m\n      ^\n\u001b[31mSyntaxError\u001b[39m\u001b[31m:\u001b[39m invalid syntax. Maybe you meant '==' or ':=' instead of '='?\n"
     ]
    }
   ],
   "source": [
    "[project]\n",
    "name = \"json-formatter\"\n",
    "version = \"0.1.0\"\n",
    "authors = [\n",
    "  { name=\"Your Name\", email=\"your.email@example.com\" },\n",
    "]\n",
    "description = \"A simple CLI tool to reformat JSON.\"\n",
    "requires-python = \">=3.8\"\n",
    "dependencies = [\n",
    "    \"click\",\n",
    "]\n",
    "\n",
    "[project.scripts]\n",
    "reformat-json = \"your_module_name:reformat_json\""
   ]
  },
  {
   "cell_type": "markdown",
   "id": "a1cd9a13",
   "metadata": {},
   "source": [
    "4. Automate an ML Workflow\n",
    "\n",
    "    Why: Chaining CLIs provides a robust way to automate complex, multi-step workflows. Each CLI handles a single, well-defined task, making the overall process modular, repeatable, and easy to debug.\n",
    "\n",
    "    How: You would build a series of small, single-purpose CLI tools. For example, a data-cleaner tool would output a cleaned file, a model-trainer tool would take that file as input and output a trained model, and an inference-tool would use that model to make predictions. You could then chain them together using a shell script or a batch file."
   ]
  },
  {
   "cell_type": "markdown",
   "id": "d4cc89ba",
   "metadata": {},
   "source": [
    "5. Research Best Practices for Python CLI Project Structure\n",
    "\n",
    "    Why: A good project structure is essential for maintainability and scalability. It ensures that your code is organized, readable, and easy for other developers to contribute to.\n",
    "\n",
    "    How: The best practice is to separate your CLI code from your core logic. This means having a main file (e.g., cli.py) that handles command-line arguments and calls functions from a separate module that contains the core functionality of your application. Your project directory should be organized logically with separate folders for your tests and modules."
   ]
  },
  {
   "cell_type": "markdown",
   "id": "20654680",
   "metadata": {},
   "source": []
  }
 ],
 "metadata": {
  "kernelspec": {
   "display_name": "Python 3",
   "language": "python",
   "name": "python3"
  },
  "language_info": {
   "codemirror_mode": {
    "name": "ipython",
    "version": 3
   },
   "file_extension": ".py",
   "mimetype": "text/x-python",
   "name": "python",
   "nbconvert_exporter": "python",
   "pygments_lexer": "ipython3",
   "version": "3.13.7"
  }
 },
 "nbformat": 4,
 "nbformat_minor": 5
}
