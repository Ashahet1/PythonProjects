{
 "cells": [
  {
   "cell_type": "markdown",
   "id": "bd0cc7de",
   "metadata": {},
   "source": [
    "## Module 1 - Python Essentials for MLOps\n",
    "## Top 3 Key Points\n",
    "\n",
    "-> Lists store ordered, mutable items\n",
    "\n",
    "-> Dictionaries map unique keys to values\n",
    "\n",
    "-> Sets contain only unique elements\n",
    "\n",
    "## Reflection Questions\n",
    "\n",
    "-> When would you want to use a tuple over a list?\n",
    "\n",
    "-> What real-world examples can be modeled with dictionaries?\n",
    "\n",
    "-> How could sets help improve the efficiency of a program?\n",
    "\n",
    "-> What issues can arise from nested data structures?\n",
    "\n",
    "-> Why is proper data structure selection important when coding?\n",
    "\n",
    "## Challenge Exercises\n",
    "\n",
    "-> Implement a phone book as a dictionary.\n",
    "\n",
    "-> Find the most frequent words in a text file using sets.\n",
    "\n",
    "-> Build a histogram from word counts using dictionaries.\n",
    "\n",
    "-> Convert a deeply nested list to a flat list.\n",
    "\n"
   ]
  },
  {
   "cell_type": "code",
   "execution_count": 20,
   "id": "e531f6be",
   "metadata": {},
   "outputs": [
    {
     "data": {
      "text/plain": [
       "[6, 7]"
      ]
     },
     "execution_count": 20,
     "metadata": {},
     "output_type": "execute_result"
    }
   ],
   "source": [
    "#Lists store ordered, mutable items\n",
    "num = [1,2,3,4,5,6,7]\n",
    "num[:4]\n",
    "num[2:5] # index at 2 to 5 -1 elements\n",
    "num[::3] # 3 is step so list in step of 3 \n",
    "num[0:-1] # All elements except last one element\n",
    "num[-1] # last element\n",
    "num[-2] # second last element\n",
    "num[::-1] # reverse the order\n",
    "num[5:7] # last two elements"
   ]
  },
  {
   "cell_type": "code",
   "execution_count": 27,
   "id": "cb39c3a4",
   "metadata": {},
   "outputs": [
    {
     "name": "stdout",
     "output_type": "stream",
     "text": [
      "['Introduction', 'Python', 'DataCamp', 'R']\n"
     ]
    }
   ],
   "source": [
    "practice=[\"Introduction\", \"Python\", \"DataCamp\", \"R\", \"SQL\", \"Data Science\"]\n",
    "print(practice[-6:-2])"
   ]
  },
  {
   "cell_type": "markdown",
   "id": "c89f950f",
   "metadata": {},
   "source": []
  },
  {
   "cell_type": "code",
   "execution_count": null,
   "id": "4f077784",
   "metadata": {},
   "outputs": [
    {
     "data": {
      "text/plain": [
       "{'name': 'James', 'school_id': 1235}"
      ]
     },
     "execution_count": 2,
     "metadata": {},
     "output_type": "execute_result"
    }
   ],
   "source": [
    "#Dictionaries map unique keys to values\n",
    "dict = {\"name\": \"James\", \"school_id\": 1235}\n",
    "dict\n",
    "dict.v"
   ]
  },
  {
   "cell_type": "code",
   "execution_count": 21,
   "id": "31bcf9c0",
   "metadata": {},
   "outputs": [
    {
     "name": "stdout",
     "output_type": "stream",
     "text": [
      "['C', 22]\n"
     ]
    }
   ],
   "source": [
    "p = [[20, \"A\", \"B\"], [\"C\", 22, 18], [\"D\", \"E\", \"F\"]]\n",
    "print(p[1][:2])"
   ]
  },
  {
   "cell_type": "code",
   "execution_count": 3,
   "id": "6661250b",
   "metadata": {},
   "outputs": [
    {
     "data": {
      "text/plain": [
       "dict_keys(['name', 'school_id'])"
      ]
     },
     "execution_count": 3,
     "metadata": {},
     "output_type": "execute_result"
    }
   ],
   "source": [
    "dict.keys()"
   ]
  },
  {
   "cell_type": "code",
   "execution_count": 4,
   "id": "a77403c3",
   "metadata": {},
   "outputs": [
    {
     "data": {
      "text/plain": [
       "dict_values(['James', 1235])"
      ]
     },
     "execution_count": 4,
     "metadata": {},
     "output_type": "execute_result"
    }
   ],
   "source": [
    "dict.values()"
   ]
  },
  {
   "cell_type": "code",
   "execution_count": 5,
   "id": "53edb079",
   "metadata": {},
   "outputs": [
    {
     "data": {
      "text/plain": [
       "'James'"
      ]
     },
     "execution_count": 5,
     "metadata": {},
     "output_type": "execute_result"
    }
   ],
   "source": [
    "dict[\"name\"]"
   ]
  },
  {
   "cell_type": "code",
   "execution_count": 6,
   "id": "5a39b604",
   "metadata": {},
   "outputs": [
    {
     "data": {
      "text/plain": [
       "1235"
      ]
     },
     "execution_count": 6,
     "metadata": {},
     "output_type": "execute_result"
    }
   ],
   "source": [
    "dict[\"school_id\"]"
   ]
  },
  {
   "cell_type": "code",
   "execution_count": 7,
   "id": "9906dbd7",
   "metadata": {},
   "outputs": [],
   "source": [
    "dict.update({\"name\": \"John\"})"
   ]
  },
  {
   "cell_type": "code",
   "execution_count": 8,
   "id": "6a5e67b7",
   "metadata": {},
   "outputs": [
    {
     "data": {
      "text/plain": [
       "'John'"
      ]
     },
     "execution_count": 8,
     "metadata": {},
     "output_type": "execute_result"
    }
   ],
   "source": [
    "dict[\"name\"]"
   ]
  },
  {
   "cell_type": "code",
   "execution_count": 9,
   "id": "51194533",
   "metadata": {},
   "outputs": [
    {
     "data": {
      "text/plain": [
       "1235"
      ]
     },
     "execution_count": 9,
     "metadata": {},
     "output_type": "execute_result"
    }
   ],
   "source": [
    "dict.pop(\"school_id\")"
   ]
  },
  {
   "cell_type": "code",
   "execution_count": 10,
   "id": "73836536",
   "metadata": {},
   "outputs": [
    {
     "data": {
      "text/plain": [
       "{'name': 'John'}"
      ]
     },
     "execution_count": 10,
     "metadata": {},
     "output_type": "execute_result"
    }
   ],
   "source": [
    "dict"
   ]
  },
  {
   "cell_type": "code",
   "execution_count": 11,
   "id": "6fc576af",
   "metadata": {},
   "outputs": [],
   "source": [
    "dict.update({\"school_id\":1235})"
   ]
  },
  {
   "cell_type": "code",
   "execution_count": 12,
   "id": "bd8974fc",
   "metadata": {},
   "outputs": [
    {
     "data": {
      "text/plain": [
       "{'name': 'John', 'school_id': 1235}"
      ]
     },
     "execution_count": 12,
     "metadata": {},
     "output_type": "execute_result"
    }
   ],
   "source": [
    "dict"
   ]
  },
  {
   "cell_type": "code",
   "execution_count": 13,
   "id": "79b3bd6a",
   "metadata": {},
   "outputs": [
    {
     "name": "stdout",
     "output_type": "stream",
     "text": [
      "Original list with duplicates: [1, 2, 2, 3, 4, 4, 4, 5, 6, 6]\n",
      "Set with unique elements: {1, 2, 3, 4, 5, 6}\n",
      "List with unique elements: [1, 2, 3, 4, 5, 6]\n",
      "\n",
      "Set after trying to add 5 (duplicate) and 7 (new): {1, 2, 3, 4, 5, 6, 7}\n"
     ]
    }
   ],
   "source": [
    "#Sets contain only unique elements\n",
    "# A simple list with duplicate elements\n",
    "my_list = [1, 2, 2, 3, 4, 4, 4, 5, 6, 6]\n",
    "print(f\"Original list with duplicates: {my_list}\")\n",
    "\n",
    "# Convert the list to a set. A set automatically removes duplicates.\n",
    "my_set = set(my_list)\n",
    "print(f\"Set with unique elements: {my_set}\")\n",
    "\n",
    "# You can also convert the set back to a list if needed\n",
    "unique_list = list(my_set)\n",
    "print(f\"List with unique elements: {unique_list}\")\n",
    "\n",
    "# You can also add elements to a set, but if the element already exists, it is ignored\n",
    "my_set.add(5)\n",
    "my_set.add(7)\n",
    "print(f\"\\nSet after trying to add 5 (duplicate) and 7 (new): {my_set}\")\n",
    "\n"
   ]
  },
  {
   "cell_type": "code",
   "execution_count": 14,
   "id": "4eb10a2b",
   "metadata": {},
   "outputs": [],
   "source": [
    "my_set.remove(2)\n",
    "my_set.discard(10)  # discard does not raise an error if the element is not found\n",
    "my_set.add(8)"
   ]
  },
  {
   "cell_type": "code",
   "execution_count": 15,
   "id": "85d44e56",
   "metadata": {},
   "outputs": [
    {
     "data": {
      "text/plain": [
       "{1, 3, 4, 5, 6, 7, 8}"
      ]
     },
     "execution_count": 15,
     "metadata": {},
     "output_type": "execute_result"
    }
   ],
   "source": [
    "my_set"
   ]
  },
  {
   "cell_type": "markdown",
   "id": "83b2412c",
   "metadata": {},
   "source": [
    "## Answers to Reflection Questions:\n",
    "\n",
    "**1. When would you want to use a tuple over a list?**\n",
    "You would use a tuple when you need an immutable collection of items that won't change, like coordinates or database records.\n",
    "\n",
    "**2. What real-world examples can be modeled with dictionaries?**\n",
    "Real-world examples for dictionaries include a contact list where names map to phone numbers, or a product catalog where product IDs map to item details.\n",
    "\n",
    "**3. How could sets help improve the efficiency of a program?**\n",
    "Sets are highly efficient for checking if an element exists within a collection because they have an average time complexity of $O(1)$ for membership testing.\n",
    "\n",
    "**4. What issues can arise from nested data structures?**\n",
    "Nested data structures can lead to increased complexity, making the code harder to read, debug, and maintain.\n",
    "\n",
    "**5. Why is proper data structure selection important when coding?**\n",
    "Proper data structure selection is crucial because it directly impacts a program's performance, memory usage, and overall readability."
   ]
  },
  {
   "cell_type": "markdown",
   "id": "39003259",
   "metadata": {},
   "source": [
    "## Challenge Exercise 01\n",
    "\n",
    "# Implement a phone book as a dictionary."
   ]
  },
  {
   "cell_type": "code",
   "execution_count": 18,
   "id": "c6674be2",
   "metadata": {},
   "outputs": [
    {
     "name": "stdout",
     "output_type": "stream",
     "text": [
      "-------------Current Phone Book -----------------\n",
      "{'Alice': '555-1234', 'James': '565-5678', 'Bob': '555-8765'}\n",
      "Alice's number is: 555-1234\n",
      "Bob is in the phone book\n",
      "Eve is not in the phone book\n",
      "\n",
      "--- Phone Book after removing James ---\n",
      "{'Alice': '555-1234', 'Bob': '555-8765'}\n",
      "\n",
      "---Phone number of James is updated\n",
      "{'Alice': '555-1234', 'Bob': '555-8765', 'James': '123-5678'}\n"
     ]
    }
   ],
   "source": [
    "# Create a empty dictionary to represent the phone book\n",
    "phone_book = {}\n",
    "\n",
    "# 1. Add contact details for phone book\n",
    "# Name is key and phone number is value\n",
    "phone_book = {\n",
    "           \"Alice\":\"555-1234\",\n",
    "           \"James\": \"565-5678\",\n",
    "           \"Bob\": \"555-8765\"\n",
    "           }\n",
    "print(\"-------------Current Phone Book -----------------\")\n",
    "print(phone_book)\n",
    "\n",
    "# 2. Look up a contact's number\n",
    "# You can access a value using it's key\n",
    "alice_number =phone_book['Alice']\n",
    "print(f\"Alice's number is: {alice_number}\")\n",
    "\n",
    "# 3. Check if contact exist in the phone book\n",
    "if \"Bob\" in phone_book:\n",
    "    print(\"Bob is in the phone book\")\n",
    "else:\n",
    "    print(\"Bob is not in the phone book\")\n",
    "\n",
    "if \"Eve\" in phone_book:\n",
    "    print(\"Eve is in the phone book\")\n",
    "else:\n",
    "    print(\"Eve is not in the phone book\")\n",
    "\n",
    "# 4. Remove a contact\n",
    "# Use the 'del' keyword to remove a key-value pair\n",
    "del phone_book[\"James\"]\n",
    "print(\"\\n--- Phone Book after removing James ---\")\n",
    "print(phone_book)\n",
    "\n",
    "# 5. Update a contact\n",
    "# James contact details\n",
    "phone_book[\"James\"] = \"123-5678\"\n",
    "print(\"\\n---Phone number of James is updated\")\n",
    "print(phone_book)"
   ]
  },
  {
   "cell_type": "markdown",
   "id": "67bd853c",
   "metadata": {},
   "source": [
    "## Challenge Excercise 02\n",
    "# Find the most frequent words in a text file using sets."
   ]
  },
  {
   "cell_type": "code",
   "execution_count": 22,
   "id": "60b4ead7",
   "metadata": {},
   "outputs": [],
   "source": [
    "import re\n",
    "from collections import Counter\n",
    "\n",
    "def find_most_frequent_words(text):\n",
    "    \"\"\"\n",
    "    Finds the most frequent word(s) in a given text string.\n",
    "\n",
    "    Args:\n",
    "        text (str): The input text to analyze.\n",
    "    \n",
    "    Return:\n",
    "        tuple: A tuple containing the maximum frequency and a list\n",
    "    \"\"\"\n",
    "    # 1. Normalize the text: convert to lowercase and remove punctuation\n",
    "    # The re.findall() function finds all sequence of letters and numbers.\n",
    "\n",
    "    words = re.findall(r'\\b\\w+\\b', text.lower())\n",
    "\n",
    "    # 2. Use a set to get all the unique words from the text\n",
    "    unique_words = set(words)\n",
    "    print(f\"Total number of words: {len(words)}\")\n",
    "    print(f\"Total number of unique words (using a set): {len(unique_words)}\\n\")\n",
    "\n",
    "    # 3. Count word frequencies using a dictionary (Counter).\n",
    "    # The Counter class is a specialized dictionary designed for this task.\n",
    "    word_counts = Counter(words)\n",
    "\n",
    "    # 4. Find the maximum frequency.\n",
    "    # We get all the values (counts) from our dictionary and find the maximum.\n",
    "    if not word_counts:\n",
    "        return 0, []\n",
    "    max_count = max(word_counts.values())\n",
    "\n",
    "    # 5. Find all words that have the maximum frequency.\n",
    "    # We iterate through the dictionary's items (key-value pairs)\n",
    "    # and create a new list of words that match the max_count.\n",
    "    most_frequent_words = [word for word, count in word_counts.items() if count == max_count]\n",
    "\n",
    "    return max_count, most_frequent_words\n",
    "\n",
    "def create_histogram(word_counts, bar_char='*'):\n",
    "    \"\"\"\n",
    "    Prints a simple text-based histogram of word frequencies.\n",
    "    \"\"\"\n",
    "    print(\"\\n--- Word Frequency Histogram ---\")\n",
    "    # Sort the words by frequency in descending order for a better visual\n",
    "    sorted_words = sorted(word_counts.items(), key=lambda item: item[1], reverse=True)\n",
    "    \n",
    "    # Find the longest word length for aligning the bars\n",
    "    if sorted_words:\n",
    "        max_word_length = max(len(word) for word, count in sorted_words)\n",
    "    else:\n",
    "        max_word_length = 0\n",
    "\n",
    "    for word, count in sorted_words:\n",
    "        # Pad the word to align the histogram bars\n",
    "        print(f\"{word.ljust(max_word_length)}: {bar_char * count}\")  \n"
   ]
  },
  {
   "cell_type": "code",
   "execution_count": 23,
   "id": "8537b488",
   "metadata": {},
   "outputs": [
    {
     "name": "stdout",
     "output_type": "stream",
     "text": [
      "Total number of words: 53\n",
      "Total number of unique words (using a set): 37\n",
      "\n",
      "The most frequent word(s) occur 4 time(s).\n",
      "The most frequent word(s) are: ['data']\n"
     ]
    }
   ],
   "source": [
    "# --- Main Part of the script ----\n",
    "# This is the sample text that would typically be a file.\n",
    "sample_text = \"\"\"Data structures are a way of organizing and storing data in a computer\n",
    "so that it can be accessed and modified efficiently. Lists, sets, and\n",
    "dictionaries are common data structures in Python. Sets contain unique\n",
    "elements. Lists allow for duplicates. Dictionaries store data in\n",
    "key-value pairs. Dictionaries are very efficient for lookups.\n",
    "\"\"\"\n",
    "# Call the function to find the most frequent words\n",
    "max_freq, top_words = find_most_frequent_words(sample_text)\n",
    "\n",
    "print(f\"The most frequent word(s) occur {max_freq} time(s).\")\n",
    "print(f\"The most frequent word(s) are: {top_words}\")"
   ]
  },
  {
   "cell_type": "markdown",
   "id": "068aae46",
   "metadata": {},
   "source": [
    "## Challenge Excercise 03\n",
    "# Build a histogram from word counts using dictionaries."
   ]
  },
  {
   "cell_type": "code",
   "execution_count": 24,
   "id": "46831328",
   "metadata": {},
   "outputs": [
    {
     "name": "stdout",
     "output_type": "stream",
     "text": [
      "\n",
      "--- Word Frequency Histogram ---\n",
      "data        : ****\n",
      "are         : ***\n",
      "and         : ***\n",
      "in          : ***\n",
      "dictionaries: ***\n",
      "structures  : **\n",
      "a           : **\n",
      "lists       : **\n",
      "sets        : **\n",
      "for         : **\n",
      "way         : *\n",
      "of          : *\n",
      "organizing  : *\n",
      "storing     : *\n",
      "computer    : *\n",
      "so          : *\n",
      "that        : *\n",
      "it          : *\n",
      "can         : *\n",
      "be          : *\n",
      "accessed    : *\n",
      "modified    : *\n",
      "efficiently : *\n",
      "common      : *\n",
      "python      : *\n",
      "contain     : *\n",
      "unique      : *\n",
      "elements    : *\n",
      "allow       : *\n",
      "duplicates  : *\n",
      "store       : *\n",
      "key         : *\n",
      "value       : *\n",
      "pairs       : *\n",
      "very        : *\n",
      "efficient   : *\n",
      "lookups     : *\n",
      "\n",
      "--- Most Frequent Words Analysis ---\n",
      "The most frequent word(s) occur 4 time(s).\n",
      "The most frequent word(s) are: ['data']\n"
     ]
    }
   ],
   "source": [
    "# Call the new function to print the histogram\n",
    "word_counts_for_histogram = Counter(re.findall(r'\\b\\w+\\b', sample_text.lower()))\n",
    "create_histogram(word_counts_for_histogram)\n",
    "\n",
    "print(f\"\\n--- Most Frequent Words Analysis ---\")\n",
    "print(f\"The most frequent word(s) occur {max_freq} time(s).\")\n",
    "print(f\"The most frequent word(s) are: {top_words}\")"
   ]
  },
  {
   "cell_type": "markdown",
   "id": "f5eaf730",
   "metadata": {},
   "source": [
    "## Challenge Excercise 04\n",
    "# Convert deeply nested list to a flat list"
   ]
  },
  {
   "cell_type": "code",
   "execution_count": 25,
   "id": "f91fc2cb",
   "metadata": {},
   "outputs": [
    {
     "name": "stdout",
     "output_type": "stream",
     "text": [
      "Original nested list: [1, 2, [3, 4, [5, 6]], 7, [8, 9]]\n",
      "Flattened list: [1, 2, 3, 4, 5, 6, 7, 8, 9]\n"
     ]
    }
   ],
   "source": [
    "def flatten_list(nested_list):\n",
    "    \"\"\"\n",
    "    Recursively flattens a deeply nested list into a single flat list.\n",
    "\n",
    "    Args:\n",
    "        nested_list (list): The list to flatten, which may contain sub-lists.\n",
    "\n",
    "    Returns:\n",
    "        list: A new list with all elements from the nested list in a single dimension.\n",
    "    \"\"\"\n",
    "    flat_list = []\n",
    "    # Loop through each item in the provided list\n",
    "    for item in nested_list:\n",
    "        # Check if the item is a list itself\n",
    "        if isinstance(item, list):\n",
    "            # If it's a list, call the function again (recursion)\n",
    "            # and extend the current flat list with the results\n",
    "            flat_list.extend(flatten_list(item))\n",
    "        else:\n",
    "            # If it's not a list, it's a regular element, so add it\n",
    "            flat_list.append(item)\n",
    "    return flat_list\n",
    "\n",
    "# Simple example: a list with varying levels of nesting\n",
    "nested_list_example = [1, 2, [3, 4, [5, 6]], 7, [8, 9]]\n",
    "\n",
    "# Call the function to flatten the list\n",
    "flat_list_example = flatten_list(nested_list_example)\n",
    "\n",
    "# Print the original and flattened lists to see the result\n",
    "print(f\"Original nested list: {nested_list_example}\")\n",
    "print(f\"Flattened list: {flat_list_example}\")\n"
   ]
  },
  {
   "cell_type": "code",
   "execution_count": null,
   "id": "4d502741",
   "metadata": {},
   "outputs": [],
   "source": []
  }
 ],
 "metadata": {
  "kernelspec": {
   "display_name": "Python 3",
   "language": "python",
   "name": "python3"
  },
  "language_info": {
   "codemirror_mode": {
    "name": "ipython",
    "version": 3
   },
   "file_extension": ".py",
   "mimetype": "text/x-python",
   "name": "python",
   "nbconvert_exporter": "python",
   "pygments_lexer": "ipython3",
   "version": "3.13.7"
  }
 },
 "nbformat": 4,
 "nbformat_minor": 5
}
